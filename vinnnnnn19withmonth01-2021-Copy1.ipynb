{
 "cells": [
  {
   "cell_type": "code",
   "execution_count": 1,
   "metadata": {},
   "outputs": [],
   "source": [
    "from sklearn.linear_model import LinearRegression\n",
    "import pandas as pd\n",
    "import numpy as np\n",
    "import matplotlib.pyplot as plt\n",
    "%matplotlib inline\n",
    "plt.style.use('seaborn-darkgrid')\n",
    "import yfinance as yf\n",
    "from datetime import datetime\n",
    "from sklearn.model_selection import train_test_split"
   ]
  },
  {
   "cell_type": "code",
   "execution_count": 2,
   "metadata": {},
   "outputs": [
    {
     "name": "stdout",
     "output_type": "stream",
     "text": [
      "[*********************100%***********************]  1 of 1 completed\n",
      "[*********************100%***********************]  1 of 1 completed\n",
      "[*********************100%***********************]  1 of 1 completed\n",
      "[*********************100%***********************]  1 of 1 completed\n",
      "[*********************100%***********************]  1 of 1 completed\n",
      "[*********************100%***********************]  1 of 1 completed\n"
     ]
    }
   ],
   "source": [
    "DfG = yf.download('GC=F', '2008-01-02', '2021-02-16', auto_adjust=True)\n",
    "DfS = yf.download('SI=F', '2008-01-02', '2021-02-16', auto_adjust=True)\n",
    "DfC = yf.download('HG=F', '2008-01-02', '2021-02-16', auto_adjust=True)\n",
    "DfCO = yf.download('CL=F', '2008-01-02', '2021-02-16', auto_adjust=True)\n",
    "DfUI = yf.download('INR=X', '2008-01-02', '2021-02-16', auto_adjust=True)\n",
    "DfSP = yf.download('^GSPC', '2008-01-02', '2021-02-16', auto_adjust=True)"
   ]
  },
  {
   "cell_type": "code",
   "execution_count": 3,
   "metadata": {},
   "outputs": [
    {
     "name": "stdout",
     "output_type": "stream",
     "text": [
      "(3273, 5) (3273, 5) (3273, 5) (3274, 5) (3379, 5) (3303, 5)\n"
     ]
    }
   ],
   "source": [
    "print(DfG.shape,DfS.shape,DfC.shape,DfCO.shape,DfUI.shape,DfSP.shape)"
   ]
  },
  {
   "cell_type": "code",
   "execution_count": 4,
   "metadata": {},
   "outputs": [
    {
     "name": "stdout",
     "output_type": "stream",
     "text": [
      "                  Open        High         Low       Close  Volume\n",
      "Date                                                              \n",
      "2008-01-02  848.700012  857.799988  846.400024  857.000000     130\n",
      "2008-01-03  863.000000  865.500000  856.299988  866.400024     181\n",
      "2008-01-04  861.400024  865.500000  860.200012  863.099976      28\n",
      "2008-01-07  860.900024  860.900024  857.400024  859.599976       4\n",
      "2008-01-08  861.599976  879.400024  861.599976  878.000000      21\n"
     ]
    }
   ],
   "source": [
    "print(DfG.head())"
   ]
  },
  {
   "cell_type": "code",
   "execution_count": 5,
   "metadata": {},
   "outputs": [],
   "source": [
    "DfG.reset_index(level=0, inplace=True)\n",
    "DfS.reset_index(level=0, inplace=True)\n",
    "DfSP.reset_index(level=0, inplace=True)\n",
    "DfC.reset_index(level=0, inplace=True)\n",
    "DfCO.reset_index(level=0, inplace=True)\n",
    "DfUI.reset_index(level=0, inplace=True)"
   ]
  },
  {
   "cell_type": "code",
   "execution_count": 6,
   "metadata": {},
   "outputs": [],
   "source": [
    "df = pd.DataFrame(columns=['Date','Gold_Price','Silver_Price','USD_Price','Crudeoil_Price','Copper_Price','SP_Price'])"
   ]
  },
  {
   "cell_type": "code",
   "execution_count": 7,
   "metadata": {},
   "outputs": [
    {
     "name": "stdout",
     "output_type": "stream",
     "text": [
      "Empty DataFrame\n",
      "Columns: [Date, Gold_Price, Silver_Price, USD_Price, Crudeoil_Price, Copper_Price, SP_Price]\n",
      "Index: []\n"
     ]
    }
   ],
   "source": [
    "print(df.tail())\n",
    "df['Date']=DfG['Date']\n",
    "df['Gold_Price']=DfG['Close']"
   ]
  },
  {
   "cell_type": "code",
   "execution_count": 8,
   "metadata": {},
   "outputs": [
    {
     "name": "stderr",
     "output_type": "stream",
     "text": [
      "C:\\Users\\cs\\Anaconda3\\lib\\site-packages\\ipykernel_launcher.py:4: SettingWithCopyWarning: \n",
      "A value is trying to be set on a copy of a slice from a DataFrame\n",
      "\n",
      "See the caveats in the documentation: https://pandas.pydata.org/pandas-docs/stable/user_guide/indexing.html#returning-a-view-versus-a-copy\n",
      "  after removing the cwd from sys.path.\n",
      "C:\\Users\\cs\\Anaconda3\\lib\\site-packages\\ipykernel_launcher.py:8: SettingWithCopyWarning: \n",
      "A value is trying to be set on a copy of a slice from a DataFrame\n",
      "\n",
      "See the caveats in the documentation: https://pandas.pydata.org/pandas-docs/stable/user_guide/indexing.html#returning-a-view-versus-a-copy\n",
      "  \n",
      "C:\\Users\\cs\\Anaconda3\\lib\\site-packages\\ipykernel_launcher.py:12: SettingWithCopyWarning: \n",
      "A value is trying to be set on a copy of a slice from a DataFrame\n",
      "\n",
      "See the caveats in the documentation: https://pandas.pydata.org/pandas-docs/stable/user_guide/indexing.html#returning-a-view-versus-a-copy\n",
      "  if sys.path[0] == '':\n",
      "C:\\Users\\cs\\Anaconda3\\lib\\site-packages\\ipykernel_launcher.py:16: SettingWithCopyWarning: \n",
      "A value is trying to be set on a copy of a slice from a DataFrame\n",
      "\n",
      "See the caveats in the documentation: https://pandas.pydata.org/pandas-docs/stable/user_guide/indexing.html#returning-a-view-versus-a-copy\n",
      "  app.launch_new_instance()\n"
     ]
    }
   ],
   "source": [
    "for i in range(len(df)):\n",
    "    if(df['Date'][i] in DfS['Date'].tolist()):\n",
    "        idx=DfS[DfS['Date']==df['Date'][i]].index[0]\n",
    "        df['Silver_Price'][i]=DfS['Close'][idx]\n",
    "for i in range(len(df)):\n",
    "    if(df['Date'][i] in DfC['Date'].tolist()):\n",
    "        idx=DfC[DfC['Date']==df['Date'][i]].index[0]\n",
    "        df['Copper_Price'][i]=DfC['Close'][idx]\n",
    "for i in range(len(df)):\n",
    "    if(df['Date'][i] in DfCO['Date'].tolist()):\n",
    "        idx=DfCO[DfCO['Date']==df['Date'][i]].index[0]\n",
    "        df['Crudeoil_Price'][i]=DfCO['Close'][idx]\n",
    "for i in range(len(df)):\n",
    "    if(df['Date'][i] in DfUI['Date'].tolist()):\n",
    "        idx=DfUI[DfUI['Date']==df['Date'][i]].index[0]\n",
    "        df['USD_Price'][i]=DfUI['Close'][idx]"
   ]
  },
  {
   "cell_type": "code",
   "execution_count": 9,
   "metadata": {},
   "outputs": [
    {
     "name": "stderr",
     "output_type": "stream",
     "text": [
      "C:\\Users\\cs\\Anaconda3\\lib\\site-packages\\ipykernel_launcher.py:4: SettingWithCopyWarning: \n",
      "A value is trying to be set on a copy of a slice from a DataFrame\n",
      "\n",
      "See the caveats in the documentation: https://pandas.pydata.org/pandas-docs/stable/user_guide/indexing.html#returning-a-view-versus-a-copy\n",
      "  after removing the cwd from sys.path.\n"
     ]
    }
   ],
   "source": [
    "for i in range(len(df)):\n",
    "    if(df['Date'][i] in DfSP['Date'].tolist()):\n",
    "        idx=DfSP[DfSP['Date']==df['Date'][i]].index[0]\n",
    "        df['SP_Price'][i]=DfSP['Close'][idx]"
   ]
  },
  {
   "cell_type": "code",
   "execution_count": 10,
   "metadata": {},
   "outputs": [
    {
     "name": "stdout",
     "output_type": "stream",
     "text": [
      "           Date   Gold_Price Silver_Price USD_Price Crudeoil_Price  \\\n",
      "3268 2021-02-08  1831.900024        27.57   72.7848          57.97   \n",
      "3269 2021-02-09  1835.300049       27.396   72.9299          58.36   \n",
      "3270 2021-02-10  1840.599976       27.074   72.8549          58.68   \n",
      "3271 2021-02-11  1824.900024       27.042   72.8073          58.24   \n",
      "3272 2021-02-12  1821.599976       27.323   72.7095          59.47   \n",
      "\n",
      "     Copper_Price SP_Price  \n",
      "3268        3.679  3915.59  \n",
      "3269       3.7335  3911.23  \n",
      "3270       3.7855  3909.88  \n",
      "3271       3.7875  3916.38  \n",
      "3272        3.802  3934.83  \n"
     ]
    }
   ],
   "source": [
    "print(df.tail())"
   ]
  },
  {
   "cell_type": "code",
   "execution_count": 11,
   "metadata": {},
   "outputs": [],
   "source": [
    "df.to_csv('gold_data1.csv',index=False)"
   ]
  },
  {
   "cell_type": "code",
   "execution_count": 12,
   "metadata": {},
   "outputs": [
    {
     "data": {
      "text/html": [
       "<div>\n",
       "<style scoped>\n",
       "    .dataframe tbody tr th:only-of-type {\n",
       "        vertical-align: middle;\n",
       "    }\n",
       "\n",
       "    .dataframe tbody tr th {\n",
       "        vertical-align: top;\n",
       "    }\n",
       "\n",
       "    .dataframe thead th {\n",
       "        text-align: right;\n",
       "    }\n",
       "</style>\n",
       "<table border=\"1\" class=\"dataframe\">\n",
       "  <thead>\n",
       "    <tr style=\"text-align: right;\">\n",
       "      <th></th>\n",
       "      <th>Gold_Price</th>\n",
       "    </tr>\n",
       "  </thead>\n",
       "  <tbody>\n",
       "    <tr>\n",
       "      <th>count</th>\n",
       "      <td>3273.000000</td>\n",
       "    </tr>\n",
       "    <tr>\n",
       "      <th>mean</th>\n",
       "      <td>1319.082829</td>\n",
       "    </tr>\n",
       "    <tr>\n",
       "      <th>std</th>\n",
       "      <td>264.855520</td>\n",
       "    </tr>\n",
       "    <tr>\n",
       "      <th>min</th>\n",
       "      <td>704.900024</td>\n",
       "    </tr>\n",
       "    <tr>\n",
       "      <th>25%</th>\n",
       "      <td>1184.400024</td>\n",
       "    </tr>\n",
       "    <tr>\n",
       "      <th>50%</th>\n",
       "      <td>1283.400024</td>\n",
       "    </tr>\n",
       "    <tr>\n",
       "      <th>75%</th>\n",
       "      <td>1492.199951</td>\n",
       "    </tr>\n",
       "    <tr>\n",
       "      <th>max</th>\n",
       "      <td>2051.500000</td>\n",
       "    </tr>\n",
       "  </tbody>\n",
       "</table>\n",
       "</div>"
      ],
      "text/plain": [
       "        Gold_Price\n",
       "count  3273.000000\n",
       "mean   1319.082829\n",
       "std     264.855520\n",
       "min     704.900024\n",
       "25%    1184.400024\n",
       "50%    1283.400024\n",
       "75%    1492.199951\n",
       "max    2051.500000"
      ]
     },
     "execution_count": 12,
     "metadata": {},
     "output_type": "execute_result"
    }
   ],
   "source": [
    "df.describe()"
   ]
  },
  {
   "cell_type": "code",
   "execution_count": 13,
   "metadata": {},
   "outputs": [],
   "source": [
    "df1=pd.read_csv('gold_data1.csv')"
   ]
  },
  {
   "cell_type": "code",
   "execution_count": 14,
   "metadata": {},
   "outputs": [],
   "source": [
    "df1.dropna(inplace=True)"
   ]
  },
  {
   "cell_type": "code",
   "execution_count": 15,
   "metadata": {},
   "outputs": [
    {
     "data": {
      "text/html": [
       "<div>\n",
       "<style scoped>\n",
       "    .dataframe tbody tr th:only-of-type {\n",
       "        vertical-align: middle;\n",
       "    }\n",
       "\n",
       "    .dataframe tbody tr th {\n",
       "        vertical-align: top;\n",
       "    }\n",
       "\n",
       "    .dataframe thead th {\n",
       "        text-align: right;\n",
       "    }\n",
       "</style>\n",
       "<table border=\"1\" class=\"dataframe\">\n",
       "  <thead>\n",
       "    <tr style=\"text-align: right;\">\n",
       "      <th></th>\n",
       "      <th>Date</th>\n",
       "      <th>Gold_Price</th>\n",
       "      <th>Silver_Price</th>\n",
       "      <th>USD_Price</th>\n",
       "      <th>Crudeoil_Price</th>\n",
       "      <th>Copper_Price</th>\n",
       "      <th>SP_Price</th>\n",
       "    </tr>\n",
       "  </thead>\n",
       "  <tbody>\n",
       "    <tr>\n",
       "      <th>3268</th>\n",
       "      <td>2021-02-08</td>\n",
       "      <td>1831.900024</td>\n",
       "      <td>27.570000</td>\n",
       "      <td>72.784798</td>\n",
       "      <td>57.970001</td>\n",
       "      <td>3.6790</td>\n",
       "      <td>3915.590088</td>\n",
       "    </tr>\n",
       "    <tr>\n",
       "      <th>3269</th>\n",
       "      <td>2021-02-09</td>\n",
       "      <td>1835.300049</td>\n",
       "      <td>27.396000</td>\n",
       "      <td>72.929901</td>\n",
       "      <td>58.360001</td>\n",
       "      <td>3.7335</td>\n",
       "      <td>3911.229980</td>\n",
       "    </tr>\n",
       "    <tr>\n",
       "      <th>3270</th>\n",
       "      <td>2021-02-10</td>\n",
       "      <td>1840.599976</td>\n",
       "      <td>27.073999</td>\n",
       "      <td>72.854897</td>\n",
       "      <td>58.680000</td>\n",
       "      <td>3.7855</td>\n",
       "      <td>3909.879883</td>\n",
       "    </tr>\n",
       "    <tr>\n",
       "      <th>3271</th>\n",
       "      <td>2021-02-11</td>\n",
       "      <td>1824.900024</td>\n",
       "      <td>27.042000</td>\n",
       "      <td>72.807297</td>\n",
       "      <td>58.240002</td>\n",
       "      <td>3.7875</td>\n",
       "      <td>3916.379883</td>\n",
       "    </tr>\n",
       "    <tr>\n",
       "      <th>3272</th>\n",
       "      <td>2021-02-12</td>\n",
       "      <td>1821.599976</td>\n",
       "      <td>27.323000</td>\n",
       "      <td>72.709503</td>\n",
       "      <td>59.470001</td>\n",
       "      <td>3.8020</td>\n",
       "      <td>3934.830078</td>\n",
       "    </tr>\n",
       "  </tbody>\n",
       "</table>\n",
       "</div>"
      ],
      "text/plain": [
       "            Date   Gold_Price  Silver_Price  USD_Price  Crudeoil_Price  \\\n",
       "3268  2021-02-08  1831.900024     27.570000  72.784798       57.970001   \n",
       "3269  2021-02-09  1835.300049     27.396000  72.929901       58.360001   \n",
       "3270  2021-02-10  1840.599976     27.073999  72.854897       58.680000   \n",
       "3271  2021-02-11  1824.900024     27.042000  72.807297       58.240002   \n",
       "3272  2021-02-12  1821.599976     27.323000  72.709503       59.470001   \n",
       "\n",
       "      Copper_Price     SP_Price  \n",
       "3268        3.6790  3915.590088  \n",
       "3269        3.7335  3911.229980  \n",
       "3270        3.7855  3909.879883  \n",
       "3271        3.7875  3916.379883  \n",
       "3272        3.8020  3934.830078  "
      ]
     },
     "execution_count": 15,
     "metadata": {},
     "output_type": "execute_result"
    }
   ],
   "source": [
    "df1.tail()"
   ]
  },
  {
   "cell_type": "code",
   "execution_count": 16,
   "metadata": {},
   "outputs": [
    {
     "data": {
      "text/html": [
       "<div>\n",
       "<style scoped>\n",
       "    .dataframe tbody tr th:only-of-type {\n",
       "        vertical-align: middle;\n",
       "    }\n",
       "\n",
       "    .dataframe tbody tr th {\n",
       "        vertical-align: top;\n",
       "    }\n",
       "\n",
       "    .dataframe thead th {\n",
       "        text-align: right;\n",
       "    }\n",
       "</style>\n",
       "<table border=\"1\" class=\"dataframe\">\n",
       "  <thead>\n",
       "    <tr style=\"text-align: right;\">\n",
       "      <th></th>\n",
       "      <th>Gold_Price</th>\n",
       "      <th>Silver_Price</th>\n",
       "      <th>USD_Price</th>\n",
       "      <th>Crudeoil_Price</th>\n",
       "      <th>Copper_Price</th>\n",
       "      <th>SP_Price</th>\n",
       "    </tr>\n",
       "  </thead>\n",
       "  <tbody>\n",
       "    <tr>\n",
       "      <th>count</th>\n",
       "      <td>3228.000000</td>\n",
       "      <td>3228.000000</td>\n",
       "      <td>3228.000000</td>\n",
       "      <td>3228.000000</td>\n",
       "      <td>3228.000000</td>\n",
       "      <td>3228.000000</td>\n",
       "    </tr>\n",
       "    <tr>\n",
       "      <th>mean</th>\n",
       "      <td>1320.888941</td>\n",
       "      <td>20.203022</td>\n",
       "      <td>59.088596</td>\n",
       "      <td>70.896521</td>\n",
       "      <td>3.001602</td>\n",
       "      <td>1937.315346</td>\n",
       "    </tr>\n",
       "    <tr>\n",
       "      <th>std</th>\n",
       "      <td>263.634897</td>\n",
       "      <td>6.819325</td>\n",
       "      <td>10.279905</td>\n",
       "      <td>24.360770</td>\n",
       "      <td>0.617875</td>\n",
       "      <td>737.414804</td>\n",
       "    </tr>\n",
       "    <tr>\n",
       "      <th>min</th>\n",
       "      <td>704.900024</td>\n",
       "      <td>8.790000</td>\n",
       "      <td>39.095001</td>\n",
       "      <td>-37.630001</td>\n",
       "      <td>1.253000</td>\n",
       "      <td>676.530029</td>\n",
       "    </tr>\n",
       "    <tr>\n",
       "      <th>25%</th>\n",
       "      <td>1186.074982</td>\n",
       "      <td>15.939000</td>\n",
       "      <td>48.780750</td>\n",
       "      <td>49.954999</td>\n",
       "      <td>2.618500</td>\n",
       "      <td>1310.777496</td>\n",
       "    </tr>\n",
       "    <tr>\n",
       "      <th>50%</th>\n",
       "      <td>1283.450012</td>\n",
       "      <td>17.523000</td>\n",
       "      <td>61.790001</td>\n",
       "      <td>68.080002</td>\n",
       "      <td>3.029250</td>\n",
       "      <td>1920.224976</td>\n",
       "    </tr>\n",
       "    <tr>\n",
       "      <th>75%</th>\n",
       "      <td>1490.049988</td>\n",
       "      <td>22.817000</td>\n",
       "      <td>67.127876</td>\n",
       "      <td>93.015001</td>\n",
       "      <td>3.386625</td>\n",
       "      <td>2501.005066</td>\n",
       "    </tr>\n",
       "    <tr>\n",
       "      <th>max</th>\n",
       "      <td>2051.500000</td>\n",
       "      <td>48.584000</td>\n",
       "      <td>77.570000</td>\n",
       "      <td>145.179993</td>\n",
       "      <td>4.623000</td>\n",
       "      <td>3934.830078</td>\n",
       "    </tr>\n",
       "  </tbody>\n",
       "</table>\n",
       "</div>"
      ],
      "text/plain": [
       "        Gold_Price  Silver_Price    USD_Price  Crudeoil_Price  Copper_Price  \\\n",
       "count  3228.000000   3228.000000  3228.000000     3228.000000   3228.000000   \n",
       "mean   1320.888941     20.203022    59.088596       70.896521      3.001602   \n",
       "std     263.634897      6.819325    10.279905       24.360770      0.617875   \n",
       "min     704.900024      8.790000    39.095001      -37.630001      1.253000   \n",
       "25%    1186.074982     15.939000    48.780750       49.954999      2.618500   \n",
       "50%    1283.450012     17.523000    61.790001       68.080002      3.029250   \n",
       "75%    1490.049988     22.817000    67.127876       93.015001      3.386625   \n",
       "max    2051.500000     48.584000    77.570000      145.179993      4.623000   \n",
       "\n",
       "          SP_Price  \n",
       "count  3228.000000  \n",
       "mean   1937.315346  \n",
       "std     737.414804  \n",
       "min     676.530029  \n",
       "25%    1310.777496  \n",
       "50%    1920.224976  \n",
       "75%    2501.005066  \n",
       "max    3934.830078  "
      ]
     },
     "execution_count": 16,
     "metadata": {},
     "output_type": "execute_result"
    }
   ],
   "source": [
    "df1.describe()"
   ]
  },
  {
   "cell_type": "code",
   "execution_count": 17,
   "metadata": {},
   "outputs": [],
   "source": [
    "from sklearn.preprocessing import MinMaxScaler"
   ]
  },
  {
   "cell_type": "code",
   "execution_count": 18,
   "metadata": {},
   "outputs": [
    {
     "name": "stdout",
     "output_type": "stream",
     "text": [
      "<class 'pandas.core.frame.DataFrame'>\n",
      "Int64Index: 3228 entries, 0 to 3272\n",
      "Data columns (total 7 columns):\n",
      " #   Column          Non-Null Count  Dtype  \n",
      "---  ------          --------------  -----  \n",
      " 0   Date            3228 non-null   object \n",
      " 1   Gold_Price      3228 non-null   float64\n",
      " 2   Silver_Price    3228 non-null   float64\n",
      " 3   USD_Price       3228 non-null   float64\n",
      " 4   Crudeoil_Price  3228 non-null   float64\n",
      " 5   Copper_Price    3228 non-null   float64\n",
      " 6   SP_Price        3228 non-null   float64\n",
      "dtypes: float64(6), object(1)\n",
      "memory usage: 201.8+ KB\n"
     ]
    }
   ],
   "source": [
    "df1.info()"
   ]
  },
  {
   "cell_type": "code",
   "execution_count": 19,
   "metadata": {},
   "outputs": [],
   "source": [
    "df1['Date']=pd.to_datetime(df1['Date'],format=\"%Y-%m-%d\")"
   ]
  },
  {
   "cell_type": "code",
   "execution_count": 20,
   "metadata": {},
   "outputs": [
    {
     "data": {
      "text/html": [
       "<div>\n",
       "<style scoped>\n",
       "    .dataframe tbody tr th:only-of-type {\n",
       "        vertical-align: middle;\n",
       "    }\n",
       "\n",
       "    .dataframe tbody tr th {\n",
       "        vertical-align: top;\n",
       "    }\n",
       "\n",
       "    .dataframe thead th {\n",
       "        text-align: right;\n",
       "    }\n",
       "</style>\n",
       "<table border=\"1\" class=\"dataframe\">\n",
       "  <thead>\n",
       "    <tr style=\"text-align: right;\">\n",
       "      <th></th>\n",
       "      <th>Date</th>\n",
       "      <th>Gold_Price</th>\n",
       "      <th>Silver_Price</th>\n",
       "      <th>USD_Price</th>\n",
       "      <th>Crudeoil_Price</th>\n",
       "      <th>Copper_Price</th>\n",
       "      <th>SP_Price</th>\n",
       "    </tr>\n",
       "  </thead>\n",
       "  <tbody>\n",
       "    <tr>\n",
       "      <th>0</th>\n",
       "      <td>2008-01-02</td>\n",
       "      <td>857.000000</td>\n",
       "      <td>15.167</td>\n",
       "      <td>39.375000</td>\n",
       "      <td>99.620003</td>\n",
       "      <td>3.0505</td>\n",
       "      <td>1447.160034</td>\n",
       "    </tr>\n",
       "    <tr>\n",
       "      <th>1</th>\n",
       "      <td>2008-01-03</td>\n",
       "      <td>866.400024</td>\n",
       "      <td>15.382</td>\n",
       "      <td>39.353001</td>\n",
       "      <td>99.180000</td>\n",
       "      <td>3.1730</td>\n",
       "      <td>1447.160034</td>\n",
       "    </tr>\n",
       "    <tr>\n",
       "      <th>2</th>\n",
       "      <td>2008-01-04</td>\n",
       "      <td>863.099976</td>\n",
       "      <td>15.346</td>\n",
       "      <td>39.095001</td>\n",
       "      <td>97.910004</td>\n",
       "      <td>3.1415</td>\n",
       "      <td>1411.630005</td>\n",
       "    </tr>\n",
       "    <tr>\n",
       "      <th>3</th>\n",
       "      <td>2008-01-07</td>\n",
       "      <td>859.599976</td>\n",
       "      <td>15.180</td>\n",
       "      <td>39.213001</td>\n",
       "      <td>95.089996</td>\n",
       "      <td>3.1250</td>\n",
       "      <td>1416.180054</td>\n",
       "    </tr>\n",
       "    <tr>\n",
       "      <th>4</th>\n",
       "      <td>2008-01-08</td>\n",
       "      <td>878.000000</td>\n",
       "      <td>15.707</td>\n",
       "      <td>39.195999</td>\n",
       "      <td>96.330002</td>\n",
       "      <td>3.2735</td>\n",
       "      <td>1390.189941</td>\n",
       "    </tr>\n",
       "  </tbody>\n",
       "</table>\n",
       "</div>"
      ],
      "text/plain": [
       "        Date  Gold_Price  Silver_Price  USD_Price  Crudeoil_Price  \\\n",
       "0 2008-01-02  857.000000        15.167  39.375000       99.620003   \n",
       "1 2008-01-03  866.400024        15.382  39.353001       99.180000   \n",
       "2 2008-01-04  863.099976        15.346  39.095001       97.910004   \n",
       "3 2008-01-07  859.599976        15.180  39.213001       95.089996   \n",
       "4 2008-01-08  878.000000        15.707  39.195999       96.330002   \n",
       "\n",
       "   Copper_Price     SP_Price  \n",
       "0        3.0505  1447.160034  \n",
       "1        3.1730  1447.160034  \n",
       "2        3.1415  1411.630005  \n",
       "3        3.1250  1416.180054  \n",
       "4        3.2735  1390.189941  "
      ]
     },
     "execution_count": 20,
     "metadata": {},
     "output_type": "execute_result"
    }
   ],
   "source": [
    "df1.head()"
   ]
  },
  {
   "cell_type": "code",
   "execution_count": 21,
   "metadata": {},
   "outputs": [
    {
     "data": {
      "text/html": [
       "<div>\n",
       "<style scoped>\n",
       "    .dataframe tbody tr th:only-of-type {\n",
       "        vertical-align: middle;\n",
       "    }\n",
       "\n",
       "    .dataframe tbody tr th {\n",
       "        vertical-align: top;\n",
       "    }\n",
       "\n",
       "    .dataframe thead th {\n",
       "        text-align: right;\n",
       "    }\n",
       "</style>\n",
       "<table border=\"1\" class=\"dataframe\">\n",
       "  <thead>\n",
       "    <tr style=\"text-align: right;\">\n",
       "      <th></th>\n",
       "      <th>Gold_Price</th>\n",
       "      <th>Silver_Price</th>\n",
       "      <th>USD_Price</th>\n",
       "      <th>Crudeoil_Price</th>\n",
       "      <th>Copper_Price</th>\n",
       "      <th>SP_Price</th>\n",
       "    </tr>\n",
       "  </thead>\n",
       "  <tbody>\n",
       "    <tr>\n",
       "      <th>Gold_Price</th>\n",
       "      <td>1.000000</td>\n",
       "      <td>0.704395</td>\n",
       "      <td>0.328160</td>\n",
       "      <td>-0.005796</td>\n",
       "      <td>0.407319</td>\n",
       "      <td>0.402342</td>\n",
       "    </tr>\n",
       "    <tr>\n",
       "      <th>Silver_Price</th>\n",
       "      <td>0.704395</td>\n",
       "      <td>1.000000</td>\n",
       "      <td>-0.327786</td>\n",
       "      <td>0.500410</td>\n",
       "      <td>0.754247</td>\n",
       "      <td>-0.222791</td>\n",
       "    </tr>\n",
       "    <tr>\n",
       "      <th>USD_Price</th>\n",
       "      <td>0.328160</td>\n",
       "      <td>-0.327786</td>\n",
       "      <td>1.000000</td>\n",
       "      <td>-0.649067</td>\n",
       "      <td>-0.467798</td>\n",
       "      <td>0.895932</td>\n",
       "    </tr>\n",
       "    <tr>\n",
       "      <th>Crudeoil_Price</th>\n",
       "      <td>-0.005796</td>\n",
       "      <td>0.500410</td>\n",
       "      <td>-0.649067</td>\n",
       "      <td>1.000000</td>\n",
       "      <td>0.746935</td>\n",
       "      <td>-0.528146</td>\n",
       "    </tr>\n",
       "    <tr>\n",
       "      <th>Copper_Price</th>\n",
       "      <td>0.407319</td>\n",
       "      <td>0.754247</td>\n",
       "      <td>-0.467798</td>\n",
       "      <td>0.746935</td>\n",
       "      <td>1.000000</td>\n",
       "      <td>-0.210482</td>\n",
       "    </tr>\n",
       "    <tr>\n",
       "      <th>SP_Price</th>\n",
       "      <td>0.402342</td>\n",
       "      <td>-0.222791</td>\n",
       "      <td>0.895932</td>\n",
       "      <td>-0.528146</td>\n",
       "      <td>-0.210482</td>\n",
       "      <td>1.000000</td>\n",
       "    </tr>\n",
       "  </tbody>\n",
       "</table>\n",
       "</div>"
      ],
      "text/plain": [
       "                Gold_Price  Silver_Price  USD_Price  Crudeoil_Price  \\\n",
       "Gold_Price        1.000000      0.704395   0.328160       -0.005796   \n",
       "Silver_Price      0.704395      1.000000  -0.327786        0.500410   \n",
       "USD_Price         0.328160     -0.327786   1.000000       -0.649067   \n",
       "Crudeoil_Price   -0.005796      0.500410  -0.649067        1.000000   \n",
       "Copper_Price      0.407319      0.754247  -0.467798        0.746935   \n",
       "SP_Price          0.402342     -0.222791   0.895932       -0.528146   \n",
       "\n",
       "                Copper_Price  SP_Price  \n",
       "Gold_Price          0.407319  0.402342  \n",
       "Silver_Price        0.754247 -0.222791  \n",
       "USD_Price          -0.467798  0.895932  \n",
       "Crudeoil_Price      0.746935 -0.528146  \n",
       "Copper_Price        1.000000 -0.210482  \n",
       "SP_Price           -0.210482  1.000000  "
      ]
     },
     "execution_count": 21,
     "metadata": {},
     "output_type": "execute_result"
    }
   ],
   "source": [
    "df1.corr()"
   ]
  },
  {
   "cell_type": "code",
   "execution_count": 22,
   "metadata": {},
   "outputs": [],
   "source": [
    "import calendar\n",
    "df1['Day']=df1['Date'].apply(lambda x:x.day)\n",
    "df1['Month']=df1['Date'].apply(lambda x:x.month)\n",
    "df1['Year']=df1['Date'].apply(lambda x:x.year)\n",
    "df1['Weekday']=df1['Date'].apply(lambda x:calendar.day_name[x.weekday()])"
   ]
  },
  {
   "cell_type": "code",
   "execution_count": 23,
   "metadata": {},
   "outputs": [],
   "source": [
    "df1['Weekday'] = df1['Weekday'].map({'Sunday':0,'Monday':1,'Tuesday':2,'Wednesday':3,'Thursday':4,'Friday':5,'Saturday':6})\n",
    "df1.drop(['Date'],axis=1,inplace=True)"
   ]
  },
  {
   "cell_type": "code",
   "execution_count": 24,
   "metadata": {
    "scrolled": true
   },
   "outputs": [
    {
     "name": "stdout",
     "output_type": "stream",
     "text": [
      "       Gold_Price  Silver_Price  USD_Price  Crudeoil_Price  Copper_Price  \\\n",
      "3263  1860.800049     29.398001  72.906601       53.549999        3.5620   \n",
      "3264  1830.500000     26.384001  73.119797       54.759998        3.5390   \n",
      "3265  1832.199951     26.878000  72.916298       55.689999        3.5785   \n",
      "3266  1788.900024     26.223000  72.858002       56.230000        3.5660   \n",
      "3267  1810.900024     27.014000  72.945702       56.849998        3.6390   \n",
      "3268  1831.900024     27.570000  72.784798       57.970001        3.6790   \n",
      "3269  1835.300049     27.396000  72.929901       58.360001        3.7335   \n",
      "3270  1840.599976     27.073999  72.854897       58.680000        3.7855   \n",
      "3271  1824.900024     27.042000  72.807297       58.240002        3.7875   \n",
      "3272  1821.599976     27.323000  72.709503       59.470001        3.8020   \n",
      "\n",
      "         SP_Price  Day  Month  Year  Weekday          S_3          S_9  \n",
      "3263  3773.860107    1      2  2021        1  1843.366699  1851.344455  \n",
      "3264  3826.310059    2      2  2021        2  1848.666707  1853.711127  \n",
      "3265  3830.169922    3      2  2021        3  1846.200033  1849.777791  \n",
      "3266  3871.739990    4      2  2021        4  1841.166667  1846.100003  \n",
      "3267  3886.830078    5      2  2021        5  1817.199992  1838.677789  \n",
      "3268  3915.590088    8      2  2021        1  1810.666667  1833.788900  \n",
      "3269  3911.229980    9      2  2021        2  1810.566691  1831.700019  \n",
      "3270  3909.879883   10      2  2021        3  1826.033366  1830.633355  \n",
      "3271  3916.379883   11      2  2021        4  1835.933350  1830.933350  \n",
      "3272  3934.830078   12      2  2021        5  1833.600016  1828.444458  \n"
     ]
    }
   ],
   "source": [
    "\n",
    "#df1.drop(['Copper_Price'],axis=1,inplace=True)\n",
    "S_3=[]\n",
    "S_9=[]\n",
    "for i in range(len(df1)):\n",
    "    if(i<9):\n",
    "        S_3.append(np.nan)\n",
    "        S_9.append(np.nan)\n",
    "    else:\n",
    "        S_3.append(df1['Gold_Price'][i-3:i].mean())\n",
    "        S_9.append(df1['Gold_Price'][i-9:i].mean())\n",
    "df1['S_3']=S_3\n",
    "df1['S_9']=S_9\n",
    "df1 = df1.dropna()\n",
    "print(df1.tail(10))"
   ]
  },
  {
   "cell_type": "code",
   "execution_count": 25,
   "metadata": {},
   "outputs": [],
   "source": [
    "X=df1.drop('Gold_Price',axis=1)\n",
    "y=df1['Gold_Price']"
   ]
  },
  {
   "cell_type": "code",
   "execution_count": 26,
   "metadata": {},
   "outputs": [
    {
     "data": {
      "text/plain": [
       "((2575, 11), (2575,), (644, 11), (644,))"
      ]
     },
     "execution_count": 26,
     "metadata": {},
     "output_type": "execute_result"
    }
   ],
   "source": [
    "X_train,X_test,y_train,y_test=train_test_split(X,y,test_size=0.2)\n",
    "X_train.shape,y_train.shape,X_test.shape,y_test.shape"
   ]
  },
  {
   "cell_type": "code",
   "execution_count": 27,
   "metadata": {},
   "outputs": [
    {
     "name": "stdout",
     "output_type": "stream",
     "text": [
      "      Silver_Price  USD_Price  Crudeoil_Price  Copper_Price     SP_Price  Day  \\\n",
      "2533     16.542000  64.703003       63.910000        3.1960  2779.600098   26   \n",
      "2218     16.761000  67.981499       45.419998        2.4875  2187.120117   17   \n",
      "2375     15.371000  64.713303       44.230000        2.6375  2425.179932    7   \n",
      "517      16.183001  46.098000       72.889999        3.0460  1073.869995   29   \n",
      "1358     21.645000  56.838001       95.379997        3.1930  1626.130005   11   \n",
      "\n",
      "      Month  Year  Weekday          S_3          S_9  \n",
      "2533      2  2018        1  1329.599976  1336.744425  \n",
      "2218     11  2016        4  1222.866659  1262.644450  \n",
      "2375      7  2017        5  1227.766642  1241.333320  \n",
      "517       1  2010        5  1088.633341  1103.899984  \n",
      "1358      6  2013        2  1394.966634  1398.611098  \n"
     ]
    }
   ],
   "source": [
    "print(X_test.head())"
   ]
  },
  {
   "cell_type": "code",
   "execution_count": 28,
   "metadata": {},
   "outputs": [],
   "source": [
    "from sklearn.ensemble import GradientBoostingRegressor\n",
    "from sklearn.ensemble import RandomForestRegressor\n",
    "from sklearn.model_selection import cross_val_score\n",
    "from sklearn.pipeline import make_pipeline\n",
    "from sklearn.preprocessing import StandardScaler"
   ]
  },
  {
   "cell_type": "code",
   "execution_count": 29,
   "metadata": {},
   "outputs": [
    {
     "name": "stdout",
     "output_type": "stream",
     "text": [
      "0.9970960385990879\n",
      "0.9946845340921857\n"
     ]
    },
    {
     "data": {
      "text/plain": [
       "19.513972079836297"
      ]
     },
     "execution_count": 29,
     "metadata": {},
     "output_type": "execute_result"
    }
   ],
   "source": [
    "model=GradientBoostingRegressor()\n",
    "model.fit(X_train,y_train)\n",
    "print(model.score(X_train,y_train))\n",
    "print(model.score(X_test,y_test))\n",
    "\n",
    "y_pred=model.predict(X_test)\n",
    "\n",
    "from sklearn.metrics import mean_squared_error\n",
    "mse=mean_squared_error(y_test,y_pred)\n",
    "rmse=mse**(1/2)\n",
    "rmse"
   ]
  },
  {
   "cell_type": "code",
   "execution_count": 30,
   "metadata": {},
   "outputs": [
    {
     "name": "stdout",
     "output_type": "stream",
     "text": [
      "0.9994461786118142\n",
      "0.9954842995476602\n"
     ]
    },
    {
     "data": {
      "text/plain": [
       "17.986123596793544"
      ]
     },
     "execution_count": 30,
     "metadata": {},
     "output_type": "execute_result"
    }
   ],
   "source": [
    "model3=RandomForestRegressor(n_estimators=200)\n",
    "model3.fit(X_train,y_train)\n",
    "print(model3.score(X_train,y_train))\n",
    "print(model3.score(X_test,y_test))\n",
    "\n",
    "y_pred3=model3.predict(X_test)\n",
    "\n",
    "from sklearn.metrics import mean_squared_error\n",
    "mse3=mean_squared_error(y_test,y_pred3)\n",
    "rmse3=mse3**(1/2)\n",
    "rmse3"
   ]
  },
  {
   "cell_type": "code",
   "execution_count": 31,
   "metadata": {},
   "outputs": [
    {
     "name": "stdout",
     "output_type": "stream",
     "text": [
      "19.434759426643602\n",
      "0.9947276004214544\n"
     ]
    }
   ],
   "source": [
    "model_linear=LinearRegression()\n",
    "model_linear.fit(X_train,y_train)\n",
    "y_pred_lin=model_linear.predict(X_test)\n",
    "mse_lin=mean_squared_error(y_test,y_pred_lin)\n",
    "print(mse_lin**(1/2))\n",
    "print(model_linear.score(X_test,y_test))"
   ]
  },
  {
   "cell_type": "code",
   "execution_count": 32,
   "metadata": {
    "scrolled": true
   },
   "outputs": [
    {
     "data": {
      "text/html": [
       "<div>\n",
       "<style scoped>\n",
       "    .dataframe tbody tr th:only-of-type {\n",
       "        vertical-align: middle;\n",
       "    }\n",
       "\n",
       "    .dataframe tbody tr th {\n",
       "        vertical-align: top;\n",
       "    }\n",
       "\n",
       "    .dataframe thead th {\n",
       "        text-align: right;\n",
       "    }\n",
       "</style>\n",
       "<table border=\"1\" class=\"dataframe\">\n",
       "  <thead>\n",
       "    <tr style=\"text-align: right;\">\n",
       "      <th></th>\n",
       "      <th>Gold_Price</th>\n",
       "      <th>Silver_Price</th>\n",
       "      <th>USD_Price</th>\n",
       "      <th>Crudeoil_Price</th>\n",
       "      <th>Copper_Price</th>\n",
       "      <th>SP_Price</th>\n",
       "      <th>S_3</th>\n",
       "      <th>S_9</th>\n",
       "    </tr>\n",
       "    <tr>\n",
       "      <th>Date</th>\n",
       "      <th></th>\n",
       "      <th></th>\n",
       "      <th></th>\n",
       "      <th></th>\n",
       "      <th></th>\n",
       "      <th></th>\n",
       "      <th></th>\n",
       "      <th></th>\n",
       "    </tr>\n",
       "  </thead>\n",
       "  <tbody>\n",
       "    <tr>\n",
       "      <th>2021-02-08</th>\n",
       "      <td>1831.900024</td>\n",
       "      <td>27.570000</td>\n",
       "      <td>72.784798</td>\n",
       "      <td>57.970001</td>\n",
       "      <td>3.6790</td>\n",
       "      <td>3915.590088</td>\n",
       "      <td>1810.666667</td>\n",
       "      <td>1833.788900</td>\n",
       "    </tr>\n",
       "    <tr>\n",
       "      <th>2021-02-09</th>\n",
       "      <td>1835.300049</td>\n",
       "      <td>27.396000</td>\n",
       "      <td>72.929901</td>\n",
       "      <td>58.360001</td>\n",
       "      <td>3.7335</td>\n",
       "      <td>3911.229980</td>\n",
       "      <td>1810.566691</td>\n",
       "      <td>1831.700019</td>\n",
       "    </tr>\n",
       "    <tr>\n",
       "      <th>2021-02-10</th>\n",
       "      <td>1840.599976</td>\n",
       "      <td>27.073999</td>\n",
       "      <td>72.854897</td>\n",
       "      <td>58.680000</td>\n",
       "      <td>3.7855</td>\n",
       "      <td>3909.879883</td>\n",
       "      <td>1826.033366</td>\n",
       "      <td>1830.633355</td>\n",
       "    </tr>\n",
       "    <tr>\n",
       "      <th>2021-02-11</th>\n",
       "      <td>1824.900024</td>\n",
       "      <td>27.042000</td>\n",
       "      <td>72.807297</td>\n",
       "      <td>58.240002</td>\n",
       "      <td>3.7875</td>\n",
       "      <td>3916.379883</td>\n",
       "      <td>1835.933350</td>\n",
       "      <td>1830.933350</td>\n",
       "    </tr>\n",
       "    <tr>\n",
       "      <th>2021-02-12</th>\n",
       "      <td>1821.599976</td>\n",
       "      <td>27.323000</td>\n",
       "      <td>72.709503</td>\n",
       "      <td>59.470001</td>\n",
       "      <td>3.8020</td>\n",
       "      <td>3934.830078</td>\n",
       "      <td>1833.600016</td>\n",
       "      <td>1828.444458</td>\n",
       "    </tr>\n",
       "  </tbody>\n",
       "</table>\n",
       "</div>"
      ],
      "text/plain": [
       "             Gold_Price  Silver_Price  USD_Price  Crudeoil_Price  \\\n",
       "Date                                                               \n",
       "2021-02-08  1831.900024     27.570000  72.784798       57.970001   \n",
       "2021-02-09  1835.300049     27.396000  72.929901       58.360001   \n",
       "2021-02-10  1840.599976     27.073999  72.854897       58.680000   \n",
       "2021-02-11  1824.900024     27.042000  72.807297       58.240002   \n",
       "2021-02-12  1821.599976     27.323000  72.709503       59.470001   \n",
       "\n",
       "            Copper_Price     SP_Price          S_3          S_9  \n",
       "Date                                                             \n",
       "2021-02-08        3.6790  3915.590088  1810.666667  1833.788900  \n",
       "2021-02-09        3.7335  3911.229980  1810.566691  1831.700019  \n",
       "2021-02-10        3.7855  3909.879883  1826.033366  1830.633355  \n",
       "2021-02-11        3.7875  3916.379883  1835.933350  1830.933350  \n",
       "2021-02-12        3.8020  3934.830078  1833.600016  1828.444458  "
      ]
     },
     "execution_count": 32,
     "metadata": {},
     "output_type": "execute_result"
    }
   ],
   "source": [
    "data=pd.read_csv('gold_data1.csv')\n",
    "data.set_index('Date', inplace=True)\n",
    "S_3=[]\n",
    "S_9=[]\n",
    "for i in range(len(data)):\n",
    "    if(i<9):\n",
    "        S_3.append(np.nan)\n",
    "        S_9.append(np.nan)\n",
    "    else:\n",
    "        S_3.append(data['Gold_Price'][i-3:i].mean())\n",
    "        S_9.append(data['Gold_Price'][i-9:i].mean())\n",
    "data['S_3']=S_3\n",
    "data['S_9']=S_9\n",
    "q=S_3[-1]\n",
    "w=S_9[-1]\n",
    "\n",
    "data.tail()\n",
    "data = data.dropna()\n",
    "\n",
    "data.tail()"
   ]
  },
  {
   "cell_type": "code",
   "execution_count": 33,
   "metadata": {},
   "outputs": [
    {
     "name": "stdout",
     "output_type": "stream",
     "text": [
      "      Silver_Price  USD_Price  Crudeoil_Price  Copper_Price     SP_Price  Day  \\\n",
      "2533     16.542000  64.703003       63.910000        3.1960  2779.600098   26   \n",
      "2218     16.761000  67.981499       45.419998        2.4875  2187.120117   17   \n",
      "2375     15.371000  64.713303       44.230000        2.6375  2425.179932    7   \n",
      "517      16.183001  46.098000       72.889999        3.0460  1073.869995   29   \n",
      "1358     21.645000  56.838001       95.379997        3.1930  1626.130005   11   \n",
      "\n",
      "      Month  Year  Weekday          S_3          S_9  \n",
      "2533      2  2018        1  1329.599976  1336.744425  \n",
      "2218     11  2016        4  1222.866659  1262.644450  \n",
      "2375      7  2017        5  1227.766642  1241.333320  \n",
      "517       1  2010        5  1088.633341  1103.899984  \n",
      "1358      6  2013        2  1394.966634  1398.611098  \n"
     ]
    }
   ],
   "source": [
    "print(X_test.head())"
   ]
  },
  {
   "cell_type": "code",
   "execution_count": 54,
   "metadata": {},
   "outputs": [],
   "source": [
    "\n",
    "#18th-1-2021 original value is 1,836.60\n",
    "yt4=model.predict(pd.DataFrame({'Silver_Price':[27.4],'USD_Price':[72.815],'Crudeoil_Price','Copper_Price':[3.8235],'SP_price':[3927.52],'Day':[17],'Month':[2],'Year':[2021],'Weekday':[3],'S_3':q,'S_9':w}))"
   ]
  },
  {
   "cell_type": "code",
   "execution_count": 55,
   "metadata": {},
   "outputs": [
    {
     "name": "stdout",
     "output_type": "stream",
     "text": [
      "[1772.77168291]\n"
     ]
    }
   ],
   "source": [
    "print(yt4)#GradientBoostingRegressor"
   ]
  },
  {
   "cell_type": "code",
   "execution_count": 50,
   "metadata": {},
   "outputs": [],
   "source": [
    "yt2=model3.predict(pd.DataFrame({'Silver_Price':[27.4],'USD_Price':[72.815],'Dow_Price':[31623.00],'Copper_Price':[3.8235],'SP_price':[3927.52],'Day':[17],'Month':[2],'Year':[2021],'Weekday':[3],'S_3':q,'S_9':w}))"
   ]
  },
  {
   "cell_type": "code",
   "execution_count": 51,
   "metadata": {},
   "outputs": [
    {
     "name": "stdout",
     "output_type": "stream",
     "text": [
      "[1838.9835]\n"
     ]
    }
   ],
   "source": [
    "print(yt2)#RandomForestRegressor\n"
   ]
  },
  {
   "cell_type": "code",
   "execution_count": 28,
   "metadata": {},
   "outputs": [
    {
     "data": {
      "text/plain": [
       "7.263178540000126"
      ]
     },
     "execution_count": 28,
     "metadata": {},
     "output_type": "execute_result"
    }
   ],
   "source": [
    "#2021-01-18,1836.6,25.05,73.18,52.36,3.62,3773.12\n",
    "1843.86317854-1836.60"
   ]
  },
  {
   "cell_type": "code",
   "execution_count": 52,
   "metadata": {},
   "outputs": [],
   "source": [
    "yt2=model_linear.predict(pd.DataFrame({'Silver_Price':[27.4],'USD_Price':[72.815],'Dow_Price':[31623.00],'Copper_Price':[3.8235],'SP_price':[3927.52],'Day':[17],'Month':[2],'Year':[2021],'Weekday':[3],'S_3':q,'S_9':w}))"
   ]
  },
  {
   "cell_type": "code",
   "execution_count": 53,
   "metadata": {},
   "outputs": [
    {
     "name": "stdout",
     "output_type": "stream",
     "text": [
      "[1844.12092407]\n"
     ]
    }
   ],
   "source": [
    "print(yt2)#linear"
   ]
  },
  {
   "cell_type": "code",
   "execution_count": null,
   "metadata": {},
   "outputs": [],
   "source": []
  }
 ],
 "metadata": {
  "kernelspec": {
   "display_name": "Python 3",
   "language": "python",
   "name": "python3"
  },
  "language_info": {
   "codemirror_mode": {
    "name": "ipython",
    "version": 3
   },
   "file_extension": ".py",
   "mimetype": "text/x-python",
   "name": "python",
   "nbconvert_exporter": "python",
   "pygments_lexer": "ipython3",
   "version": "3.8.5"
  }
 },
 "nbformat": 4,
 "nbformat_minor": 4
}
